{
 "cells": [
  {
   "cell_type": "code",
   "execution_count": 32,
   "id": "09fac56d-80dd-4407-b82b-8df27352525c",
   "metadata": {},
   "outputs": [],
   "source": [
    "import pandas as pd"
   ]
  },
  {
   "cell_type": "code",
   "execution_count": 33,
   "id": "8c83e825-97de-40f3-8ce1-35d61bb5a272",
   "metadata": {},
   "outputs": [],
   "source": [
    "path = \"../data/train.csv\"\n",
    "df = pd.read_csv(path)"
   ]
  },
  {
   "cell_type": "code",
   "execution_count": 34,
   "id": "1359f8a8-563a-4f61-aa64-99a823c7699b",
   "metadata": {},
   "outputs": [],
   "source": [
    "from sklearn.model_selection import train_test_split"
   ]
  },
  {
   "cell_type": "code",
   "execution_count": 35,
   "id": "5e398837-09c4-4bfa-82b8-bac3f6e8b556",
   "metadata": {},
   "outputs": [],
   "source": [
    "features = ['Age', 'Sex', 'Pclass']\n",
    "label = 'Survived'"
   ]
  },
  {
   "cell_type": "code",
   "execution_count": 36,
   "id": "a4921e5e-9cc7-43af-9206-64d963f1c644",
   "metadata": {},
   "outputs": [],
   "source": [
    "X = df[features]\n",
    "y = df[label]"
   ]
  },
  {
   "cell_type": "code",
   "execution_count": 37,
   "id": "9ae114f4-4d0f-44ca-a1f3-90beb88a6018",
   "metadata": {},
   "outputs": [],
   "source": [
    "X_train, X_test, y_train, y_test = train_test_split(X, y, test_size=0.3, random_state=42)"
   ]
  },
  {
   "cell_type": "code",
   "execution_count": 38,
   "id": "a1b9d712-5b19-4245-998e-39e8ad9faba2",
   "metadata": {},
   "outputs": [],
   "source": [
    "mean_age = X_train['Age'].mean()"
   ]
  },
  {
   "cell_type": "code",
   "execution_count": 39,
   "id": "03e1bc2b-68f0-4b4a-8f71-b7ad0d847334",
   "metadata": {},
   "outputs": [
    {
     "name": "stdout",
     "output_type": "stream",
     "text": [
      "29.256352705410823\n"
     ]
    }
   ],
   "source": [
    "print(mean_age)"
   ]
  },
  {
   "cell_type": "code",
   "execution_count": 40,
   "id": "fe2987c7-49fa-4b96-aecb-8daab907c64b",
   "metadata": {},
   "outputs": [],
   "source": [
    "def impute_age(df, value):\n",
    "    df['Age'] = df[\"Age\"].fillna(value)\n",
    "    return df\n",
    "\n",
    "def convert_sex(df):\n",
    "    df['is_male'] = 0\n",
    "    df.loc[df['Sex'] == 'male', 'is_male'] = 1\n",
    "    df = df.drop(columns=['Sex'])\n",
    "    return df"
   ]
  },
  {
   "cell_type": "code",
   "execution_count": 41,
   "id": "cc0af6fc-056a-482a-a0cb-daa262e36460",
   "metadata": {},
   "outputs": [],
   "source": [
    "X_train = impute_age(X_train, mean_age)\n",
    "X_train = convert_sex(X_train)"
   ]
  },
  {
   "cell_type": "code",
   "execution_count": 42,
   "id": "c035d63f-f031-408c-a4de-c57193c241dc",
   "metadata": {},
   "outputs": [],
   "source": [
    "X_test = impute_age(X_test, mean_age)\n",
    "X_test = convert_sex(X_test)"
   ]
  },
  {
   "cell_type": "code",
   "execution_count": 43,
   "id": "5b98a280-c1b3-4fab-a9fb-12c81338f14d",
   "metadata": {},
   "outputs": [],
   "source": [
    "from sklearn.ensemble import RandomForestClassifier"
   ]
  },
  {
   "cell_type": "code",
   "execution_count": 44,
   "id": "f977b930-bc95-4a14-b8f8-c78249b67c63",
   "metadata": {},
   "outputs": [],
   "source": [
    "clf = RandomForestClassifier(n_estimators=100, bootstrap=True, criterion='entropy',\n",
    "                               min_samples_leaf=5, min_samples_split=4, random_state=42)"
   ]
  },
  {
   "cell_type": "code",
   "execution_count": 45,
   "id": "bebee152-909a-42ae-9ba3-1551af147b17",
   "metadata": {},
   "outputs": [
    {
     "data": {
      "text/plain": [
       "RandomForestClassifier(max_depth=4, random_state=42)"
      ]
     },
     "execution_count": 45,
     "metadata": {},
     "output_type": "execute_result"
    }
   ],
   "source": [
    "clf.fit(X_train, y_train)"
   ]
  },
  {
   "cell_type": "code",
   "execution_count": 46,
   "id": "e185f8f4-e7c3-4de1-bea2-f9ea642fdbd1",
   "metadata": {},
   "outputs": [],
   "source": [
    "y_predict = clf.predict(X_test)"
   ]
  },
  {
   "cell_type": "code",
   "execution_count": 47,
   "id": "4e417877-66ec-41b4-b403-793af30adc6b",
   "metadata": {},
   "outputs": [],
   "source": [
    "from sklearn.metrics import accuracy_score"
   ]
  },
  {
   "cell_type": "code",
   "execution_count": 48,
   "id": "61fec9a6-7b11-4bb5-acdf-265542e3e157",
   "metadata": {},
   "outputs": [
    {
     "data": {
      "text/plain": [
       "0.7835820895522388"
      ]
     },
     "execution_count": 48,
     "metadata": {},
     "output_type": "execute_result"
    }
   ],
   "source": [
    "accuracy_score(y_test, y_predict)"
   ]
  },
  {
   "cell_type": "code",
   "execution_count": null,
   "id": "83910823-d6e0-4c52-9da7-7db15485f086",
   "metadata": {},
   "outputs": [],
   "source": []
  }
 ],
 "metadata": {
  "kernelspec": {
   "display_name": "Python 3 (ipykernel)",
   "language": "python",
   "name": "python3"
  },
  "language_info": {
   "codemirror_mode": {
    "name": "ipython",
    "version": 3
   },
   "file_extension": ".py",
   "mimetype": "text/x-python",
   "name": "python",
   "nbconvert_exporter": "python",
   "pygments_lexer": "ipython3",
   "version": "3.9.10"
  }
 },
 "nbformat": 4,
 "nbformat_minor": 5
}
