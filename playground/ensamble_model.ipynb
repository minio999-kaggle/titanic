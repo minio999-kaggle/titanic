{
 "cells": [
  {
   "cell_type": "markdown",
   "id": "1319540b-0c1e-4fda-b2c1-0134db0a3e66",
   "metadata": {},
   "source": [
    "## Preprocesing"
   ]
  },
  {
   "cell_type": "code",
   "execution_count": 4,
   "id": "27ffd6d2-f747-4aa7-bf68-f49a4b4014af",
   "metadata": {},
   "outputs": [],
   "source": [
    "import pandas as pd\n",
    "import numpy as np\n",
    "from sklearn.ensemble import AdaBoostClassifier, RandomForestClassifier, GradientBoostingClassifier\n",
    "from sklearn.model_selection import KFold\n",
    "from sklearn.metrics import accuracy_score\n",
    "from sklearn.preprocessing import LabelEncoder, StandardScaler\n",
    "from sklearn.neighbors import KNeighborsClassifier\n",
    "from sklearn.neural_network import MLPClassifier\n",
    "\n",
    "RANDOM_STATE = 42\n",
    "MIN_SAMPLE_SPLIT=4\n",
    "MIN_SAMPLES_LEAF=5\n",
    "N_ESTIMATORS=100\n",
    "N_SPLITS = 5\n",
    "USELESS_FEATURES = [\"PassengerId\", \"Name\", \"Ticket\", \"Cabin\",\n",
    "                    \"Parch\", \"SibSp\", 'Embarked', 'Fare']\n",
    "PATH = '../data/train.csv'\n",
    "df_raw = pd.read_csv(PATH)\n",
    "\n",
    "\n",
    "def impute_age(df, value):\n",
    "    '''\n",
    "    Replaces Nulls in column \"Age\" of a dataframe with the passed value\n",
    "\n",
    "    Parameters:\n",
    "        dataframe (pandas.DataFrame): DataFrame on which to operate\n",
    "        value (float): Value used for imputation\n",
    "    Returns:\n",
    "        pandas.DataFrame\n",
    "    '''\n",
    "\n",
    "    df['Age'] = df[\"Age\"].fillna(value)\n",
    "    return df\n",
    "\n",
    "\n",
    "def convert_sex(df):\n",
    "    '''\n",
    "    Replacing sex in column \"Sex\" of a dataframe to 1 if it's male and 0 if it's female\n",
    "\n",
    "    Parameters:\n",
    "        dataframe (pandas.DataFrame): Dataframe on which to operate\n",
    "    Returns:\n",
    "        pandas.DataFrame\n",
    "    '''\n",
    "\n",
    "    df['is_male'] = 0\n",
    "    df.loc[df['Sex'] == 'male', 'is_male'] = 1\n",
    "    df = df.drop(columns=['Sex'])\n",
    "    return df\n",
    "\n",
    "def count_relatives_on_board(df):\n",
    "    '''\n",
    "    Counting Relatives on board based of sibsp and parch columns\n",
    "\n",
    "    Paramters:\n",
    "        dataframe (pandas.DataFrame): Dataframe on which to operate\n",
    "    Retruns:\n",
    "        pandas.DataFrame\n",
    "    '''\n",
    "\n",
    "    df[\"RelativesOnboard\"] = df[\"SibSp\"] + df[\"Parch\"]\n",
    "    return df\n",
    "\n",
    "def set_title(df):\n",
    "    '''\n",
    "    Changing name titles to cryptonims\n",
    "\n",
    "    Paramters:\n",
    "        dataframe (pandas.DataFrame): Dataframe on which to operate\n",
    "    Retruns:\n",
    "        pandas.DataFrame\n",
    "    '''\n",
    "\n",
    "    mapping = {'Mlle': 'Miss', 'Major': 'Mr', 'Col': 'Mr', 'Sir': 'Mr', 'Don': 'Mr', 'Mme': 'Miss',\n",
    "      'Jonkheer': 'Mr', 'Lady': 'Mrs', 'Capt': 'Mr', 'Countess': 'Mrs', 'Ms': 'Miss', 'Dona': 'Mrs'}\n",
    "\n",
    "    df['Title'] = df['Name'].str.extract('([A-Za-z]+)\\.', expand=True)\n",
    "    df.replace({'Title': mapping}, inplace=True)\n",
    "    return df\n",
    "\n",
    "def title_encode(df):\n",
    "    label_encoder = LabelEncoder()\n",
    "    df['Title'] = label_encoder.fit_transform(df['Title'])\n",
    "    return df\n",
    "\n",
    "def scaling_values(df):\n",
    "    scaler = StandardScaler()\n",
    "    scaler.fit(df)\n",
    "    scaled_data = scaler.fit_transform(df)\n",
    "    scaled_data = pd.DataFrame(scaled_data, columns=df.columns)\n",
    "    scaled_data['Survived'] = df['Survived']\n",
    "    return scaled_data\n",
    "\n",
    "def transform_data(df, mean_age_value):\n",
    "    '''\n",
    "    Applying data cleaning functions to data sets\n",
    "\n",
    "    Paramters:\n",
    "        dataframe (pandas.DataFrame): Dataframe on which to operate\n",
    "        mean_age (float): Mean age of training data set\n",
    "    Retruns:\n",
    "        pandas.DataFrame\n",
    "    '''\n",
    "    df = set_title(df)\n",
    "    df = count_relatives_on_board(df)\n",
    "    df = impute_age(df, mean_age_value)\n",
    "    df = convert_sex(df)\n",
    "    df = title_encode(df)\n",
    "    df.drop(USELESS_FEATURES, inplace=True,axis=1)\n",
    "    df = scaling_values(df)\n",
    "    return df\n",
    "\n"
   ]
  },
  {
   "cell_type": "markdown",
   "id": "d278ecaa-4800-4a5f-9264-33918bd6cd8e",
   "metadata": {},
   "source": [
    "## Random Forest"
   ]
  },
  {
   "cell_type": "code",
   "execution_count": 8,
   "id": "d0a36ef3-700f-42a1-98dc-6144eb3ee487",
   "metadata": {},
   "outputs": [
    {
     "name": "stdout",
     "output_type": "stream",
     "text": [
      "0.793\n",
      "0.831\n",
      "0.865\n",
      "0.787\n",
      "0.837\n",
      "\n",
      "Average: 82.3 %\n",
      "Std: 2.9 %\n"
     ]
    }
   ],
   "source": [
    "LABEL = 'Survived'\n",
    "mean_age = df_raw['Age'].mean()\n",
    "df = transform_data(df_raw, mean_age)\n",
    "X = df\n",
    "X = X.drop('Survived', axis=1)\n",
    "y = df['Survived']\n",
    "\n",
    "k_fold = KFold(\n",
    "    n_splits=N_SPLITS,\n",
    "    shuffle=True,\n",
    "    random_state=RANDOM_STATE\n",
    ")\n",
    "\n",
    "scores = []\n",
    "\n",
    "for train_index, test_index in k_fold.split(X):\n",
    "    X_train, X_test = X.loc[train_index], X.loc[test_index]\n",
    "    y_train, y_test = y.loc[train_index], y.loc[test_index]\n",
    "\n",
    "    rf_clf = RandomForestClassifier(n_estimators=N_ESTIMATORS, bootstrap=True, criterion='entropy',\n",
    "                                min_samples_leaf=MIN_SAMPLES_LEAF,\n",
    "                                min_samples_split=MIN_SAMPLE_SPLIT, random_state=RANDOM_STATE)\n",
    "\n",
    "    rf_clf.fit(X_train, y_train)\n",
    "    y_predict = rf_clf.predict(X_test)\n",
    "\n",
    "    acc_score = round(accuracy_score(y_test, y_predict),3)\n",
    "\n",
    "    print(acc_score)\n",
    "\n",
    "    scores.append(acc_score)\n",
    "\n",
    "print()\n",
    "print(\"Average:\", round(100*np.mean(scores), 1), \"%\")\n",
    "print(\"Std:\", round(100*np.std(scores), 1), \"%\")"
   ]
  },
  {
   "cell_type": "markdown",
   "id": "fb385033-04fa-4cf7-ad27-5fcbe2e975c2",
   "metadata": {},
   "source": [
    "## Ada Boost"
   ]
  },
  {
   "cell_type": "code",
   "execution_count": 10,
   "id": "9a6c8371-c29b-4d2f-b1f5-7542ef0391d3",
   "metadata": {},
   "outputs": [
    {
     "name": "stdout",
     "output_type": "stream",
     "text": [
      "0.827\n",
      "0.815\n",
      "0.826\n",
      "0.798\n",
      "0.809\n",
      "\n",
      "Average: 81.5 %\n",
      "Std: 1.1 %\n"
     ]
    }
   ],
   "source": [
    "LABEL = 'Survived'\n",
    "mean_age = df_raw['Age'].mean()\n",
    "df = transform_data(df_raw, mean_age)\n",
    "X = df\n",
    "X = X.drop('Survived', axis=1)\n",
    "y = df['Survived']\n",
    "\n",
    "k_fold = KFold(\n",
    "    n_splits=N_SPLITS,\n",
    "    shuffle=True,\n",
    "    random_state=RANDOM_STATE\n",
    ")\n",
    "\n",
    "scores = []\n",
    "\n",
    "for train_index, test_index in k_fold.split(X):\n",
    "    X_train, X_test = X.loc[train_index], X.loc[test_index]\n",
    "    y_train, y_test = y.loc[train_index], y.loc[test_index]\n",
    "\n",
    "    ada_clf = AdaBoostClassifier()\n",
    "\n",
    "    ada_clf.fit(X_train, y_train)\n",
    "    y_predict = ada_clf.predict(X_test)\n",
    "\n",
    "    acc_score = round(accuracy_score(y_test, y_predict),3)\n",
    "\n",
    "    print(acc_score)\n",
    "\n",
    "    scores.append(acc_score)\n",
    "\n",
    "print()\n",
    "print(\"Average:\", round(100*np.mean(scores), 1), \"%\")\n",
    "print(\"Std:\", round(100*np.std(scores), 1), \"%\")"
   ]
  },
  {
   "cell_type": "markdown",
   "id": "aaebe973-759d-4014-8c10-435e1d17dcb1",
   "metadata": {},
   "source": [
    "## Gradient Boost"
   ]
  },
  {
   "cell_type": "code",
   "execution_count": 13,
   "id": "96691c74-f13c-41fe-af03-e77a975a5445",
   "metadata": {},
   "outputs": [
    {
     "name": "stdout",
     "output_type": "stream",
     "text": [
      "0.804\n",
      "0.815\n",
      "0.843\n",
      "0.792\n",
      "0.82\n",
      "\n",
      "Average: 81.5 %\n",
      "Std: 1.7 %\n"
     ]
    }
   ],
   "source": [
    "LABEL = 'Survived'\n",
    "mean_age = df_raw['Age'].mean()\n",
    "df = transform_data(df_raw, mean_age)\n",
    "X = df\n",
    "X = X.drop('Survived', axis=1)\n",
    "y = df['Survived']\n",
    "\n",
    "k_fold = KFold(\n",
    "    n_splits=N_SPLITS,\n",
    "    shuffle=True,\n",
    "    random_state=RANDOM_STATE\n",
    ")\n",
    "\n",
    "scores = []\n",
    "\n",
    "for train_index, test_index in k_fold.split(X):\n",
    "    X_train, X_test = X.loc[train_index], X.loc[test_index]\n",
    "    y_train, y_test = y.loc[train_index], y.loc[test_index]\n",
    "\n",
    "    gb_clf = GradientBoostingClassifier()\n",
    "\n",
    "    gb_clf.fit(X_train, y_train)\n",
    "    y_predict = gb_clf.predict(X_test)\n",
    "\n",
    "    acc_score = round(accuracy_score(y_test, y_predict),3)\n",
    "\n",
    "    print(acc_score)\n",
    "\n",
    "    scores.append(acc_score)\n",
    "\n",
    "print()\n",
    "print(\"Average:\", round(100*np.mean(scores), 1), \"%\")\n",
    "print(\"Std:\", round(100*np.std(scores), 1), \"%\")"
   ]
  },
  {
   "cell_type": "markdown",
   "id": "436d0c3a-39a2-41b5-a607-5203d498d2aa",
   "metadata": {},
   "source": [
    "## MLP"
   ]
  },
  {
   "cell_type": "code",
   "execution_count": 14,
   "id": "2a8d4ab6-f8d2-4f01-857b-e89cf74d0c33",
   "metadata": {},
   "outputs": [
    {
     "name": "stderr",
     "output_type": "stream",
     "text": [
      "/opt/conda/lib/python3.10/site-packages/sklearn/neural_network/_multilayer_perceptron.py:702: ConvergenceWarning: Stochastic Optimizer: Maximum iterations (200) reached and the optimization hasn't converged yet.\n",
      "  warnings.warn(\n"
     ]
    },
    {
     "name": "stdout",
     "output_type": "stream",
     "text": [
      "0.799\n"
     ]
    },
    {
     "name": "stderr",
     "output_type": "stream",
     "text": [
      "/opt/conda/lib/python3.10/site-packages/sklearn/neural_network/_multilayer_perceptron.py:702: ConvergenceWarning: Stochastic Optimizer: Maximum iterations (200) reached and the optimization hasn't converged yet.\n",
      "  warnings.warn(\n"
     ]
    },
    {
     "name": "stdout",
     "output_type": "stream",
     "text": [
      "0.826\n"
     ]
    },
    {
     "name": "stderr",
     "output_type": "stream",
     "text": [
      "/opt/conda/lib/python3.10/site-packages/sklearn/neural_network/_multilayer_perceptron.py:702: ConvergenceWarning: Stochastic Optimizer: Maximum iterations (200) reached and the optimization hasn't converged yet.\n",
      "  warnings.warn(\n"
     ]
    },
    {
     "name": "stdout",
     "output_type": "stream",
     "text": [
      "0.865\n"
     ]
    },
    {
     "name": "stderr",
     "output_type": "stream",
     "text": [
      "/opt/conda/lib/python3.10/site-packages/sklearn/neural_network/_multilayer_perceptron.py:702: ConvergenceWarning: Stochastic Optimizer: Maximum iterations (200) reached and the optimization hasn't converged yet.\n",
      "  warnings.warn(\n"
     ]
    },
    {
     "name": "stdout",
     "output_type": "stream",
     "text": [
      "0.798\n",
      "0.815\n",
      "\n",
      "Average: 82.1 %\n",
      "Std: 2.5 %\n"
     ]
    },
    {
     "name": "stderr",
     "output_type": "stream",
     "text": [
      "/opt/conda/lib/python3.10/site-packages/sklearn/neural_network/_multilayer_perceptron.py:702: ConvergenceWarning: Stochastic Optimizer: Maximum iterations (200) reached and the optimization hasn't converged yet.\n",
      "  warnings.warn(\n"
     ]
    }
   ],
   "source": [
    "LABEL = 'Survived'\n",
    "mean_age = df_raw['Age'].mean()\n",
    "df = transform_data(df_raw, mean_age)\n",
    "X = df\n",
    "X = X.drop('Survived', axis=1)\n",
    "y = df['Survived']\n",
    "\n",
    "k_fold = KFold(\n",
    "    n_splits=N_SPLITS,\n",
    "    shuffle=True,\n",
    "    random_state=RANDOM_STATE\n",
    ")\n",
    "\n",
    "scores = []\n",
    "\n",
    "for train_index, test_index in k_fold.split(X):\n",
    "    X_train, X_test = X.loc[train_index], X.loc[test_index]\n",
    "    y_train, y_test = y.loc[train_index], y.loc[test_index]\n",
    "\n",
    "    mlp_clf = MLPClassifier()\n",
    "\n",
    "    mlp_clf.fit(X_train, y_train)\n",
    "    y_predict = mlp_clf.predict(X_test)\n",
    "\n",
    "    acc_score = round(accuracy_score(y_test, y_predict),3)\n",
    "\n",
    "    print(acc_score)\n",
    "\n",
    "    scores.append(acc_score)\n",
    "\n",
    "print()\n",
    "print(\"Average:\", round(100*np.mean(scores), 1), \"%\")\n",
    "print(\"Std:\", round(100*np.std(scores), 1), \"%\")"
   ]
  },
  {
   "cell_type": "markdown",
   "id": "2701b8ec-8feb-4060-a79a-837eea433f09",
   "metadata": {},
   "source": [
    "## Knn"
   ]
  },
  {
   "cell_type": "code",
   "execution_count": 15,
   "id": "6c4c5d74-99dd-45b9-89b9-8833788442b4",
   "metadata": {},
   "outputs": [
    {
     "name": "stdout",
     "output_type": "stream",
     "text": [
      "0.788\n",
      "0.792\n",
      "0.837\n",
      "0.803\n",
      "0.843\n",
      "\n",
      "Average: 81.3 %\n",
      "Std: 2.3 %\n"
     ]
    }
   ],
   "source": [
    "LABEL = 'Survived'\n",
    "mean_age = df_raw['Age'].mean()\n",
    "df = transform_data(df_raw, mean_age)\n",
    "X = df\n",
    "X = X.drop('Survived', axis=1)\n",
    "y = df['Survived']\n",
    "\n",
    "k_fold = KFold(\n",
    "    n_splits=N_SPLITS,\n",
    "    shuffle=True,\n",
    "    random_state=RANDOM_STATE\n",
    ")\n",
    "\n",
    "scores = []\n",
    "\n",
    "for train_index, test_index in k_fold.split(X):\n",
    "    X_train, X_test = X.loc[train_index], X.loc[test_index]\n",
    "    y_train, y_test = y.loc[train_index], y.loc[test_index]\n",
    "\n",
    "    knn_clf = KNeighborsClassifier()\n",
    "\n",
    "    knn_clf.fit(X_train, y_train)\n",
    "    y_predict = knn_clf.predict(X_test)\n",
    "\n",
    "    acc_score = round(accuracy_score(y_test, y_predict),3)\n",
    "\n",
    "    print(acc_score)\n",
    "\n",
    "    scores.append(acc_score)\n",
    "\n",
    "print()\n",
    "print(\"Average:\", round(100*np.mean(scores), 1), \"%\")\n",
    "print(\"Std:\", round(100*np.std(scores), 1), \"%\")"
   ]
  },
  {
   "cell_type": "markdown",
   "id": "e91b840a-9a36-4dab-ba80-2f7bef073a2e",
   "metadata": {},
   "source": [
    "## Stacking Classifier"
   ]
  },
  {
   "cell_type": "code",
   "execution_count": 17,
   "id": "176cf83e-593d-4e48-a13b-4649617728fc",
   "metadata": {},
   "outputs": [],
   "source": [
    "from sklearn.ensemble import StackingClassifier"
   ]
  },
  {
   "cell_type": "code",
   "execution_count": 21,
   "id": "7cfa5c94-bbe5-454d-a54f-752208742f61",
   "metadata": {},
   "outputs": [],
   "source": [
    "estimators = [\n",
    "    ('knn_clf', KNeighborsClassifier()),\n",
    "    ('gb_clf', GradientBoostingClassifier()),\n",
    "    ('ada_clf', AdaBoostClassifier()),\n",
    "]"
   ]
  },
  {
   "cell_type": "code",
   "execution_count": 22,
   "id": "f551362f-10c0-4e70-8c54-fa638fc51b07",
   "metadata": {},
   "outputs": [
    {
     "name": "stdout",
     "output_type": "stream",
     "text": [
      "0.804\n",
      "0.815\n",
      "0.871\n",
      "0.798\n",
      "0.787\n",
      "\n",
      "Average: 81.5 %\n",
      "Std: 2.9 %\n"
     ]
    }
   ],
   "source": [
    "LABEL = 'Survived'\n",
    "mean_age = df_raw['Age'].mean()\n",
    "df = transform_data(df_raw, mean_age)\n",
    "X = df\n",
    "X = X.drop('Survived', axis=1)\n",
    "y = df['Survived']\n",
    "\n",
    "k_fold = KFold(\n",
    "    n_splits=N_SPLITS,\n",
    "    shuffle=True,\n",
    "    random_state=RANDOM_STATE\n",
    ")\n",
    "\n",
    "scores = []\n",
    "\n",
    "for train_index, test_index in k_fold.split(X):\n",
    "    X_train, X_test = X.loc[train_index], X.loc[test_index]\n",
    "    y_train, y_test = y.loc[train_index], y.loc[test_index]\n",
    "\n",
    "    clf = StackingClassifier(\n",
    "    estimators=estimators, final_estimator=RandomForestClassifier(n_estimators=N_ESTIMATORS, bootstrap=True, criterion='entropy',\n",
    "                                min_samples_leaf=MIN_SAMPLES_LEAF,\n",
    "                                min_samples_split=MIN_SAMPLE_SPLIT, random_state=RANDOM_STATE)\n",
    "    )\n",
    "\n",
    "\n",
    "    clf.fit(X_train, y_train)\n",
    "    y_predict = clf.predict(X_test)\n",
    "\n",
    "    acc_score = round(accuracy_score(y_test, y_predict),3)\n",
    "\n",
    "    print(acc_score)\n",
    "\n",
    "    scores.append(acc_score)\n",
    "\n",
    "print()\n",
    "print(\"Average:\", round(100*np.mean(scores), 1), \"%\")\n",
    "print(\"Std:\", round(100*np.std(scores), 1), \"%\")"
   ]
  },
  {
   "cell_type": "code",
   "execution_count": null,
   "id": "b100546a-5666-4ea6-9c81-f78c5a152387",
   "metadata": {},
   "outputs": [],
   "source": []
  }
 ],
 "metadata": {
  "kernelspec": {
   "display_name": "Python 3 (ipykernel)",
   "language": "python",
   "name": "python3"
  },
  "language_info": {
   "codemirror_mode": {
    "name": "ipython",
    "version": 3
   },
   "file_extension": ".py",
   "mimetype": "text/x-python",
   "name": "python",
   "nbconvert_exporter": "python",
   "pygments_lexer": "ipython3",
   "version": "3.10.5"
  }
 },
 "nbformat": 4,
 "nbformat_minor": 5
}
