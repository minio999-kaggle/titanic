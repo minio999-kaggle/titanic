{
 "cells": [
  {
   "cell_type": "code",
   "execution_count": 1,
   "id": "37070ff6-99cc-4836-ba99-d0cc074f2e9e",
   "metadata": {},
   "outputs": [],
   "source": [
    "import pandas as pd\n",
    "import numpy as np\n",
    "\n",
    "\n",
    "from sklearn.ensemble import RandomForestClassifier\n",
    "\n",
    "from sklearn.metrics import accuracy_score"
   ]
  },
  {
   "cell_type": "code",
   "execution_count": 2,
   "id": "6491b53b-94d7-4c6c-905d-381954d46465",
   "metadata": {},
   "outputs": [],
   "source": [
    "path = \"../data/train.csv\"\n",
    "df = pd.read_csv(path)\n",
    "\n",
    "features = ['Age', 'Sex', 'Pclass']\n",
    "label = 'Survived'\n",
    "\n",
    "X = df[features]\n",
    "y = df[label]"
   ]
  },
  {
   "cell_type": "code",
   "execution_count": 3,
   "id": "77fbcad3-2530-40d1-bef7-724f12de1788",
   "metadata": {},
   "outputs": [
    {
     "data": {
      "text/html": [
       "<div>\n",
       "<style scoped>\n",
       "    .dataframe tbody tr th:only-of-type {\n",
       "        vertical-align: middle;\n",
       "    }\n",
       "\n",
       "    .dataframe tbody tr th {\n",
       "        vertical-align: top;\n",
       "    }\n",
       "\n",
       "    .dataframe thead th {\n",
       "        text-align: right;\n",
       "    }\n",
       "</style>\n",
       "<table border=\"1\" class=\"dataframe\">\n",
       "  <thead>\n",
       "    <tr style=\"text-align: right;\">\n",
       "      <th></th>\n",
       "      <th>Age</th>\n",
       "      <th>Sex</th>\n",
       "      <th>Pclass</th>\n",
       "    </tr>\n",
       "  </thead>\n",
       "  <tbody>\n",
       "    <tr>\n",
       "      <th>0</th>\n",
       "      <td>22.0</td>\n",
       "      <td>male</td>\n",
       "      <td>3</td>\n",
       "    </tr>\n",
       "    <tr>\n",
       "      <th>1</th>\n",
       "      <td>38.0</td>\n",
       "      <td>female</td>\n",
       "      <td>1</td>\n",
       "    </tr>\n",
       "    <tr>\n",
       "      <th>2</th>\n",
       "      <td>26.0</td>\n",
       "      <td>female</td>\n",
       "      <td>3</td>\n",
       "    </tr>\n",
       "    <tr>\n",
       "      <th>3</th>\n",
       "      <td>35.0</td>\n",
       "      <td>female</td>\n",
       "      <td>1</td>\n",
       "    </tr>\n",
       "    <tr>\n",
       "      <th>4</th>\n",
       "      <td>35.0</td>\n",
       "      <td>male</td>\n",
       "      <td>3</td>\n",
       "    </tr>\n",
       "    <tr>\n",
       "      <th>...</th>\n",
       "      <td>...</td>\n",
       "      <td>...</td>\n",
       "      <td>...</td>\n",
       "    </tr>\n",
       "    <tr>\n",
       "      <th>886</th>\n",
       "      <td>27.0</td>\n",
       "      <td>male</td>\n",
       "      <td>2</td>\n",
       "    </tr>\n",
       "    <tr>\n",
       "      <th>887</th>\n",
       "      <td>19.0</td>\n",
       "      <td>female</td>\n",
       "      <td>1</td>\n",
       "    </tr>\n",
       "    <tr>\n",
       "      <th>888</th>\n",
       "      <td>NaN</td>\n",
       "      <td>female</td>\n",
       "      <td>3</td>\n",
       "    </tr>\n",
       "    <tr>\n",
       "      <th>889</th>\n",
       "      <td>26.0</td>\n",
       "      <td>male</td>\n",
       "      <td>1</td>\n",
       "    </tr>\n",
       "    <tr>\n",
       "      <th>890</th>\n",
       "      <td>32.0</td>\n",
       "      <td>male</td>\n",
       "      <td>3</td>\n",
       "    </tr>\n",
       "  </tbody>\n",
       "</table>\n",
       "<p>891 rows × 3 columns</p>\n",
       "</div>"
      ],
      "text/plain": [
       "      Age     Sex  Pclass\n",
       "0    22.0    male       3\n",
       "1    38.0  female       1\n",
       "2    26.0  female       3\n",
       "3    35.0  female       1\n",
       "4    35.0    male       3\n",
       "..    ...     ...     ...\n",
       "886  27.0    male       2\n",
       "887  19.0  female       1\n",
       "888   NaN  female       3\n",
       "889  26.0    male       1\n",
       "890  32.0    male       3\n",
       "\n",
       "[891 rows x 3 columns]"
      ]
     },
     "execution_count": 3,
     "metadata": {},
     "output_type": "execute_result"
    }
   ],
   "source": [
    "X"
   ]
  },
  {
   "cell_type": "markdown",
   "id": "d03dd6ae-df0e-4155-a0f3-524f65f124fc",
   "metadata": {},
   "source": [
    "# Simple train-test split"
   ]
  },
  {
   "cell_type": "code",
   "execution_count": 4,
   "id": "9c3e523a-eea2-4b15-b0a4-17c70efb8e0b",
   "metadata": {},
   "outputs": [
    {
     "name": "stdout",
     "output_type": "stream",
     "text": [
      "0.757\n"
     ]
    }
   ],
   "source": [
    "from sklearn.model_selection import train_test_split\n",
    "\n",
    "# SPLIT DATA INTO TRAIN AND TEST SUBSETS\n",
    "X_train, X_test, y_train, y_test = train_test_split(X, y, test_size=0.3, random_state=43)\n",
    "\n",
    "mean_age = X_train['Age'].mean()\n",
    "\n",
    "def impute_age(df, value):\n",
    "    df['Age'] = df[\"Age\"].fillna(value)\n",
    "    return df\n",
    "\n",
    "def convert_sex(df):\n",
    "    df['is_male'] = 0\n",
    "    df.loc[df['Sex'] == 'male', 'is_male'] = 1\n",
    "    df = df.drop(columns=['Sex'])\n",
    "    return df\n",
    "\n",
    "X_train = impute_age(X_train, mean_age)\n",
    "X_train = convert_sex(X_train)\n",
    "\n",
    "X_test = impute_age(X_test, mean_age)\n",
    "X_test = convert_sex(X_test)\n",
    "\n",
    "clf = RandomForestClassifier(n_estimators=100, bootstrap=True, criterion='entropy',\n",
    "                               min_samples_leaf=5, min_samples_split=4, random_state=42)\n",
    "\n",
    "clf.fit(X_train, y_train)\n",
    "\n",
    "y_predict = clf.predict(X_test)\n",
    "\n",
    "print(round(accuracy_score(y_test, y_predict), 3))"
   ]
  },
  {
   "cell_type": "markdown",
   "id": "09c5873d-837a-4259-8862-19c3d05608cc",
   "metadata": {},
   "source": [
    "# KFold"
   ]
  },
  {
   "cell_type": "code",
   "execution_count": 5,
   "id": "8ee8c381-9501-4e70-ba14-8878bbb1b14b",
   "metadata": {},
   "outputs": [
    {
     "name": "stdout",
     "output_type": "stream",
     "text": [
      "Fold 0 : 0.838\n",
      "Fold 1 : 0.803\n",
      "Fold 2 : 0.798\n",
      "Fold 3 : 0.803\n",
      "Fold 4 : 0.82\n",
      "\n",
      "Average: 81.2 %\n",
      "Std: 1.5 %\n"
     ]
    }
   ],
   "source": [
    "from sklearn.model_selection import KFold\n",
    "\n",
    "\n",
    "kf = KFold(\n",
    "    n_splits=5, \n",
    "    shuffle=True, \n",
    "    random_state=46\n",
    ")\n",
    "\n",
    "scores = []\n",
    "# SPLIT DATA INTO TRAIN AND TEST SUBSETS IN A LOOP\n",
    "i = 0\n",
    "for train_index, test_index in kf.split(X):\n",
    "    X_train, X_test = X.loc[train_index], X.loc[test_index]\n",
    "    y_train, y_test = y.loc[train_index], y.loc[test_index]\n",
    "    \n",
    "    \n",
    "    mean_age = X_train['Age'].mean()\n",
    "    \n",
    "    X_train = impute_age(X_train, mean_age)\n",
    "    X_train = convert_sex(X_train)\n",
    "\n",
    "    X_test = impute_age(X_test, mean_age)\n",
    "    X_test = convert_sex(X_test)\n",
    "    \n",
    "    clf = RandomForestClassifier(n_estimators=60, bootstrap=True, criterion='entropy',\n",
    "                               min_samples_leaf=2, min_samples_split=5, random_state=42)\n",
    "    \n",
    "    clf.fit(X_train, y_train)\n",
    "    y_predict = clf.predict(X_test)\n",
    "    \n",
    "    acc_score = round(accuracy_score(y_test, y_predict),3)\n",
    "    \n",
    "    print(\"Fold\", i, \":\", acc_score)\n",
    "    i = i+1\n",
    "    \n",
    "    scores.append(acc_score)\n",
    "    \n",
    "print()\n",
    "print(\"Average:\", round(100*np.mean(scores), 1), \"%\")\n",
    "print(\"Std:\", round(100*np.std(scores), 1), \"%\")"
   ]
  },
  {
   "cell_type": "markdown",
   "id": "1f334eee-4aa1-4275-b643-eb2b67ea35c3",
   "metadata": {},
   "source": [
    "# Variant 1) Train final model on all of data"
   ]
  },
  {
   "cell_type": "code",
   "execution_count": 6,
   "id": "5924ec6b-00b7-4e56-9a3f-220b3a9dbf15",
   "metadata": {},
   "outputs": [
    {
     "name": "stderr",
     "output_type": "stream",
     "text": [
      "/tmp/ipykernel_364/2119917918.py:9: SettingWithCopyWarning: \n",
      "A value is trying to be set on a copy of a slice from a DataFrame.\n",
      "Try using .loc[row_indexer,col_indexer] = value instead\n",
      "\n",
      "See the caveats in the documentation: https://pandas.pydata.org/pandas-docs/stable/user_guide/indexing.html#returning-a-view-versus-a-copy\n",
      "  df['Age'] = df[\"Age\"].fillna(value)\n",
      "/tmp/ipykernel_364/2119917918.py:13: SettingWithCopyWarning: \n",
      "A value is trying to be set on a copy of a slice from a DataFrame.\n",
      "Try using .loc[row_indexer,col_indexer] = value instead\n",
      "\n",
      "See the caveats in the documentation: https://pandas.pydata.org/pandas-docs/stable/user_guide/indexing.html#returning-a-view-versus-a-copy\n",
      "  df['is_male'] = 0\n"
     ]
    },
    {
     "data": {
      "text/plain": [
       "RandomForestClassifier(criterion='entropy', min_samples_leaf=2,\n",
       "                       min_samples_split=5, n_estimators=50, random_state=42)"
      ]
     },
     "execution_count": 6,
     "metadata": {},
     "output_type": "execute_result"
    }
   ],
   "source": [
    "mean_age = X['Age'].mean()\n",
    "    \n",
    "X_train = impute_age(X, mean_age)\n",
    "X_train = convert_sex(X)\n",
    "\n",
    "y_train = y\n",
    "\n",
    "clf = RandomForestClassifier(n_estimators=50, bootstrap=True, criterion='entropy',\n",
    "                               min_samples_leaf=2, min_samples_split=5, random_state=42)\n",
    "\n",
    "clf.fit(X_train, y_train)"
   ]
  },
  {
   "cell_type": "code",
   "execution_count": 7,
   "id": "f7da62aa-1c01-4ecb-b251-ad03ac8b10f1",
   "metadata": {},
   "outputs": [
    {
     "name": "stdout",
     "output_type": "stream",
     "text": [
      "[1]\n"
     ]
    },
    {
     "name": "stderr",
     "output_type": "stream",
     "text": [
      "/opt/conda/lib/python3.9/site-packages/sklearn/base.py:450: UserWarning: X does not have valid feature names, but RandomForestClassifier was fitted with feature names\n",
      "  warnings.warn(\n"
     ]
    }
   ],
   "source": [
    "# Let's use our model to predict survival of this person:\n",
    "age = 70\n",
    "pclass = 1\n",
    "is_male = 0\n",
    "\n",
    "\n",
    "completely_different_data = np.array([[age, pclass, is_male]])\n",
    "\n",
    "y_predict = clf.predict(completely_different_data)\n",
    "\n",
    "print(y_predict)"
   ]
  },
  {
   "cell_type": "code",
   "execution_count": 8,
   "id": "80308b38-e43d-43dd-bb88-4e4cce1f296e",
   "metadata": {},
   "outputs": [
    {
     "name": "stderr",
     "output_type": "stream",
     "text": [
      "/opt/conda/lib/python3.9/site-packages/sklearn/base.py:450: UserWarning: X does not have valid feature names, but RandomForestClassifier was fitted with feature names\n",
      "  warnings.warn(\n"
     ]
    },
    {
     "name": "stdout",
     "output_type": "stream",
     "text": [
      "[0]\n"
     ]
    }
   ],
   "source": [
    "# Let's use our model to predict survival of this person:\n",
    "age = 5\n",
    "pclass = 3\n",
    "is_male = 1\n",
    "\n",
    "\n",
    "another_completely_different_data = np.array([[age, pclass, is_male]])\n",
    "\n",
    "y_predict = clf.predict(another_completely_different_data)\n",
    "\n",
    "print(y_predict)"
   ]
  },
  {
   "cell_type": "code",
   "execution_count": null,
   "id": "4d2b48db-f9f3-4e33-a2ea-61e358e69628",
   "metadata": {},
   "outputs": [],
   "source": []
  }
 ],
 "metadata": {
  "kernelspec": {
   "display_name": "Python 3 (ipykernel)",
   "language": "python",
   "name": "python3"
  },
  "language_info": {
   "codemirror_mode": {
    "name": "ipython",
    "version": 3
   },
   "file_extension": ".py",
   "mimetype": "text/x-python",
   "name": "python",
   "nbconvert_exporter": "python",
   "pygments_lexer": "ipython3",
   "version": "3.10.5"
  }
 },
 "nbformat": 4,
 "nbformat_minor": 5
}
