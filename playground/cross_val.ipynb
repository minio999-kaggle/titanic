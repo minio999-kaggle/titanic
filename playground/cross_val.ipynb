{
 "cells": [
  {
   "cell_type": "code",
   "execution_count": 1,
   "id": "28302588-68f5-4a47-9a09-3c2a8f7abde6",
   "metadata": {},
   "outputs": [],
   "source": [
    "import pandas as pd"
   ]
  },
  {
   "cell_type": "code",
   "execution_count": 2,
   "id": "8eeb8aee-e118-4d2c-a754-f3c7f9b7ec2f",
   "metadata": {},
   "outputs": [],
   "source": [
    "path = \"../data/train.csv\"\n",
    "df = pd.read_csv(path)"
   ]
  },
  {
   "cell_type": "code",
   "execution_count": 3,
   "id": "4ef14c81-6b52-40f8-b607-f32f13e8f0b6",
   "metadata": {},
   "outputs": [],
   "source": [
    "from sklearn.model_selection import train_test_split"
   ]
  },
  {
   "cell_type": "code",
   "execution_count": 4,
   "id": "127a7927-e4c7-44e5-a09a-2ebb65ccd195",
   "metadata": {},
   "outputs": [],
   "source": [
    "features = ['Age', 'Sex', 'Pclass']\n",
    "label = 'Survived'"
   ]
  },
  {
   "cell_type": "code",
   "execution_count": 5,
   "id": "5b6955b0-d6c7-42f0-a1b6-a7672cb9d3f7",
   "metadata": {},
   "outputs": [],
   "source": [
    "X = df[features]\n",
    "y = df[label]"
   ]
  },
  {
   "cell_type": "code",
   "execution_count": 6,
   "id": "6a2df516-c22d-413b-a1ee-b823440111f1",
   "metadata": {},
   "outputs": [],
   "source": [
    "X_train, X_test, y_train, y_test = train_test_split(X, y, test_size=0.3, random_state=42)"
   ]
  },
  {
   "cell_type": "code",
   "execution_count": 7,
   "id": "ab5aa3c8-f13c-478b-9673-56d2b3ef26da",
   "metadata": {},
   "outputs": [],
   "source": [
    "mean_age = X_train['Age'].mean()"
   ]
  },
  {
   "cell_type": "code",
   "execution_count": 8,
   "id": "0d555375-cdef-4def-b587-a6620cd453f2",
   "metadata": {},
   "outputs": [
    {
     "name": "stdout",
     "output_type": "stream",
     "text": [
      "29.256352705410823\n"
     ]
    }
   ],
   "source": [
    "print(mean_age)"
   ]
  },
  {
   "cell_type": "code",
   "execution_count": 9,
   "id": "6cfb4add-2edd-4c7b-a460-359d6e445f3e",
   "metadata": {},
   "outputs": [],
   "source": [
    "def impute_age(df, value):\n",
    "    df['Age'] = df[\"Age\"].fillna(value)\n",
    "    return df\n",
    "\n",
    "def convert_sex(df):\n",
    "    df['is_male'] = 0\n",
    "    df.loc[df['Sex'] == 'male', 'is_male'] = 1\n",
    "    df = df.drop(columns=['Sex'])\n",
    "    return df"
   ]
  },
  {
   "cell_type": "code",
   "execution_count": 10,
   "id": "0503e14f-2e87-45ab-887e-7f0a9b96e796",
   "metadata": {},
   "outputs": [],
   "source": [
    "X_train = impute_age(X_train, mean_age)\n",
    "X_train = convert_sex(X_train)"
   ]
  },
  {
   "cell_type": "code",
   "execution_count": 11,
   "id": "f685b2b9-2c1f-4112-9b69-b24f3746ef2a",
   "metadata": {},
   "outputs": [],
   "source": [
    "X_test = impute_age(X_test, mean_age)\n",
    "X_test = convert_sex(X_test)"
   ]
  },
  {
   "cell_type": "code",
   "execution_count": 12,
   "id": "672bea27-8cb3-497e-afba-f4f12fbda633",
   "metadata": {},
   "outputs": [],
   "source": [
    "from sklearn.ensemble import RandomForestClassifier"
   ]
  },
  {
   "cell_type": "code",
   "execution_count": 13,
   "id": "d0da07d3-7960-4651-b737-f5416aa6e4f6",
   "metadata": {},
   "outputs": [],
   "source": [
    "clf = RandomForestClassifier(n_estimators=100, bootstrap=True, criterion='entropy',\n",
    "                               min_samples_leaf=5, min_samples_split=4, random_state=42)"
   ]
  },
  {
   "cell_type": "code",
   "execution_count": 14,
   "id": "9969e350-d678-4f02-af80-4e6d4d14059c",
   "metadata": {},
   "outputs": [
    {
     "data": {
      "text/plain": [
       "RandomForestClassifier(criterion='entropy', min_samples_leaf=5,\n",
       "                       min_samples_split=4, random_state=42)"
      ]
     },
     "execution_count": 14,
     "metadata": {},
     "output_type": "execute_result"
    }
   ],
   "source": [
    "clf.fit(X_train, y_train)"
   ]
  },
  {
   "cell_type": "code",
   "execution_count": 15,
   "id": "c3a4be89-f5fd-4c8f-b384-3edb8dca8f70",
   "metadata": {},
   "outputs": [],
   "source": [
    "y_predict = clf.predict(X_test)"
   ]
  },
  {
   "cell_type": "code",
   "execution_count": 18,
   "id": "84948d5c-528b-46aa-8625-b3161c4ada58",
   "metadata": {},
   "outputs": [],
   "source": [
    "from sklearn.model_selection import cross_val_score"
   ]
  },
  {
   "cell_type": "code",
   "execution_count": 54,
   "id": "c291b265-e991-4317-9581-5d20b9189b69",
   "metadata": {},
   "outputs": [],
   "source": [
    "scores = cross_val_score(clf, X_test, y_test, cv=10)"
   ]
  },
  {
   "cell_type": "code",
   "execution_count": 55,
   "id": "f798edbf-a376-403a-91e2-e43a5b27e560",
   "metadata": {
    "tags": []
   },
   "outputs": [
    {
     "name": "stdout",
     "output_type": "stream",
     "text": [
      "Accuracy: 0.83 (+/- 0.10)\n"
     ]
    }
   ],
   "source": [
    "print(\"Accuracy: %0.2f (+/- %0.2f)\" %(scores.mean(), scores.std()*2))"
   ]
  },
  {
   "cell_type": "code",
   "execution_count": null,
   "id": "445ebe57-7e83-4b1e-b86e-5050d6f59d73",
   "metadata": {},
   "outputs": [],
   "source": []
  }
 ],
 "metadata": {
  "kernelspec": {
   "display_name": "Python 3 (ipykernel)",
   "language": "python",
   "name": "python3"
  },
  "language_info": {
   "codemirror_mode": {
    "name": "ipython",
    "version": 3
   },
   "file_extension": ".py",
   "mimetype": "text/x-python",
   "name": "python",
   "nbconvert_exporter": "python",
   "pygments_lexer": "ipython3",
   "version": "3.9.10"
  }
 },
 "nbformat": 4,
 "nbformat_minor": 5
}
